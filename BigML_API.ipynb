{
 "cells": [
  {
   "cell_type": "code",
   "execution_count": 37,
   "metadata": {
    "collapsed": true
   },
   "outputs": [],
   "source": [
    "from bigml.api import BigML\n",
    "from bigml.model import Model\n",
    "import sqlite3"
   ]
  },
  {
   "cell_type": "code",
   "execution_count": 38,
   "metadata": {
    "collapsed": true
   },
   "outputs": [],
   "source": [
    "api = BigML()"
   ]
  },
  {
   "cell_type": "code",
   "execution_count": 58,
   "metadata": {
    "collapsed": false
   },
   "outputs": [],
   "source": [
    "local_model = Model('model/56912ca8200d5a5e1000fcd1')"
   ]
  },
  {
   "cell_type": "code",
   "execution_count": 5,
   "metadata": {
    "collapsed": true
   },
   "outputs": [],
   "source": []
  },
  {
   "cell_type": "code",
   "execution_count": 55,
   "metadata": {
    "collapsed": false
   },
   "outputs": [
    {
     "data": {
      "text/plain": [
       "{'code': 200,\n",
       " 'error': None,\n",
       " 'meta': {'limit': 20,\n",
       "  'next': None,\n",
       "  'offset': 0,\n",
       "  'previous': None,\n",
       "  'total_count': 1},\n",
       " 'objects': [{'balance_objective': False,\n",
       "   'category': 0,\n",
       "   'cluster': None,\n",
       "   'cluster_status': False,\n",
       "   'code': 200,\n",
       "   'columns': 2,\n",
       "   'created': '2016-01-09T15:52:08.324000',\n",
       "   'credits': 0.5010223388671875,\n",
       "   'credits_per_prediction': 0.0,\n",
       "   'dataset': 'dataset/56912b55200d5a5e1000fccd',\n",
       "   'dataset_field_types': {'categorical': 1,\n",
       "    'datetime': 0,\n",
       "    'effective_fields': 1001,\n",
       "    'items': 0,\n",
       "    'numeric': 0,\n",
       "    'preferred': 2,\n",
       "    'text': 1,\n",
       "    'total': 2},\n",
       "   'dataset_status': True,\n",
       "   'dataset_type': 0,\n",
       "   'description': u'',\n",
       "   'ensemble': False,\n",
       "   'ensemble_id': u'',\n",
       "   'ensemble_index': 0,\n",
       "   'excluded_fields': [],\n",
       "   'input_fields': ['000000'],\n",
       "   'locale': 'en-us',\n",
       "   'max_columns': 2,\n",
       "   'max_rows': 1472,\n",
       "   'missing_splits': False,\n",
       "   'name': \"train's dataset's model\",\n",
       "   'node_threshold': 512,\n",
       "   'number_of_batchpredictions': 0,\n",
       "   'number_of_evaluations': 0,\n",
       "   'number_of_predictions': 0,\n",
       "   'number_of_public_predictions': 0,\n",
       "   'objective_field': '000001',\n",
       "   'objective_field_name': 'tag',\n",
       "   'objective_field_type': 'categorical',\n",
       "   'objective_fields': ['000001'],\n",
       "   'ordering': 0,\n",
       "   'out_of_bag': False,\n",
       "   'price': 0.0,\n",
       "   'private': True,\n",
       "   'project': None,\n",
       "   'randomize': False,\n",
       "   'range': [1, 1472],\n",
       "   'replacement': False,\n",
       "   'resource': 'model/56912ca8200d5a5e1000fcd1',\n",
       "   'rows': 1472,\n",
       "   'sample_rate': 1.0,\n",
       "   'selective_pruning': True,\n",
       "   'shared': False,\n",
       "   'size': 131340,\n",
       "   'source': 'source/56912b23200d5a5e1801dbd0',\n",
       "   'source_status': True,\n",
       "   'stat_pruning': True,\n",
       "   'status': {'code': 5,\n",
       "    'elapsed': 4285,\n",
       "    'message': 'The model has been created',\n",
       "    'progress': 1.0},\n",
       "   'subscription': False,\n",
       "   'tags': ['tag'],\n",
       "   'updated': '2016-01-11T21:46:50.779000',\n",
       "   'white_box': False}]}"
      ]
     },
     "execution_count": 55,
     "metadata": {},
     "output_type": "execute_result"
    }
   ],
   "source": [
    "api.list_models()"
   ]
  },
  {
   "cell_type": "code",
   "execution_count": 60,
   "metadata": {
    "collapsed": false
   },
   "outputs": [
    {
     "name": "stdout",
     "output_type": "stream",
     "text": [
      "0 Содрала обои  купила новые... Но как же их клеить?! Где настоящие мужчины  которые умеют ВСЕ?\n",
      "0 Кто хочет серьезных отношений? Я девушка  очень люблю постоянство\n",
      "0 ИЩУ ДЕВ.ЖЕН.ДЛЯ СЕР.ОТН. МТС СМС 098*122*09*09 ЗАДЕРЖИ\n",
      "0 мальчик 37  скучно мне! 0680241915\n",
      "0 ПОЗНАКОМЛЮСЬ С ДЕВУШКОЙ дЛЯ С/О 099 958 1233\n",
      "0 У меня есть кекс  с тебя кофе! Позвоню сама!\n",
      "0 Валерия. Ищу дикого мужчину от 25 до 30. Мне 21\n",
      "0 Хочу покорить Эверест! Вылет - за неделю. Кто со мной? Оплачу я! Анастасия\n",
      "0 Я девушка. Ищу непослушного парня до 45\n",
      "0 Парень любой инт для Дамы старше 40 лет 066 731 39 99 Днепр\n",
      "0 М47Днепр Господин ищет стройную Рабу 0970001430\n",
      "0 сделаю приятно девушке в машине 0679976322\n",
      "0 М47Днепр Господин ищет стройную Рабу 0970001430\n",
      "0 Ищу парня. Материальная поддержка\n",
      "0 П 31 приедет к Д/Ж на интим в любое время 0994251527. Задержи!\n",
      "0 П. 27 ХОЧУ УСЛЫМАТЬ МИЛОЮ ПРИНЦЕССУ))) 098 650 01 53 :-)\n",
      "0 познакомлюсь д/ж 35-40 для с/о 0930854527\n",
      "0 познакомился с мил худ зрел Д Ж для встреч общения флирта и ... Днепр я п 25 (0950641424) есть киевст здрж плиз\n",
      "0 для смелой веруси 068 840 47 53 смс\n",
      "0 П31 познакомлюсь с девушкой 20-30лет для создания семьи можно с ребёнком Магдалиновка и район 0679976322\n"
     ]
    }
   ],
   "source": [
    "# Read all text from db\n",
    "conn = sqlite3.connect(\"clubnika.db\")\n",
    "cur = conn.cursor()\n",
    "cur.execute(\"select msg from messages order by timestamp desc limit 20\")\n",
    "for entry in cur:\n",
    "    prediction = local_model.predict({\"000000\": entry[0]})\n",
    "    print prediction,  entry[0]"
   ]
  },
  {
   "cell_type": "code",
   "execution_count": 33,
   "metadata": {
    "collapsed": false
   },
   "outputs": [
    {
     "name": "stdout",
     "output_type": "stream",
     "text": [
      "Help on method create_prediction in module bigml.api:\n",
      "\n",
      "create_prediction(self, model, input_data=None, args=None, wait_time=3, retries=10, by_name=True) method of bigml.api.BigML instance\n",
      "    Creates a new prediction.\n",
      "    The model parameter can be:\n",
      "     - a simple model\n",
      "     - an ensemble\n",
      "    The by_name argument is now deprecated. It will be removed.\n",
      "\n"
     ]
    }
   ],
   "source": [
    "help(api.create_prediction)"
   ]
  },
  {
   "cell_type": "code",
   "execution_count": null,
   "metadata": {
    "collapsed": true
   },
   "outputs": [],
   "source": []
  }
 ],
 "metadata": {
  "kernelspec": {
   "display_name": "Python 2",
   "language": "python",
   "name": "python2"
  },
  "language_info": {
   "codemirror_mode": {
    "name": "ipython",
    "version": 2
   },
   "file_extension": ".py",
   "mimetype": "text/x-python",
   "name": "python",
   "nbconvert_exporter": "python",
   "pygments_lexer": "ipython2",
   "version": "2.7.11"
  }
 },
 "nbformat": 4,
 "nbformat_minor": 0
}
