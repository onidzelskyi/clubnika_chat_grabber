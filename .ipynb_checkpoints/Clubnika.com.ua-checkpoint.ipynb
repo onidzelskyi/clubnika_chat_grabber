{
 "cells": [
  {
   "cell_type": "code",
   "execution_count": 6,
   "metadata": {
    "collapsed": false
   },
   "outputs": [
    {
     "ename": "ImportError",
     "evalue": "cannot import name _monkeypatches",
     "output_type": "error",
     "traceback": [
      "\u001b[0;31m---------------------------------------------------------------------------\u001b[0m",
      "\u001b[0;31mImportError\u001b[0m                               Traceback (most recent call last)",
      "\u001b[0;32m<ipython-input-6-10ccc1070916>\u001b[0m in \u001b[0;36m<module>\u001b[0;34m()\u001b[0m\n\u001b[0;32m----> 1\u001b[0;31m \u001b[0;32mfrom\u001b[0m \u001b[0mscrapy\u001b[0m \u001b[0;32mimport\u001b[0m \u001b[0mSelector\u001b[0m\u001b[0;34m\u001b[0m\u001b[0m\n\u001b[0m",
      "\u001b[0;32m/opt/local/Library/Frameworks/Python.framework/Versions/2.7/lib/python2.7/site-packages/scrapy/__init__.py\u001b[0m in \u001b[0;36m<module>\u001b[0;34m()\u001b[0m\n\u001b[1;32m     25\u001b[0m \u001b[0;34m\u001b[0m\u001b[0m\n\u001b[1;32m     26\u001b[0m \u001b[0;31m# Apply monkey patches to fix issues in external libraries\u001b[0m\u001b[0;34m\u001b[0m\u001b[0;34m\u001b[0m\u001b[0m\n\u001b[0;32m---> 27\u001b[0;31m \u001b[0;32mfrom\u001b[0m \u001b[0;34m.\u001b[0m \u001b[0;32mimport\u001b[0m \u001b[0m_monkeypatches\u001b[0m\u001b[0;34m\u001b[0m\u001b[0m\n\u001b[0m\u001b[1;32m     28\u001b[0m \u001b[0;32mdel\u001b[0m \u001b[0m_monkeypatches\u001b[0m\u001b[0;34m\u001b[0m\u001b[0m\n\u001b[1;32m     29\u001b[0m \u001b[0;34m\u001b[0m\u001b[0m\n",
      "\u001b[0;31mImportError\u001b[0m: cannot import name _monkeypatches"
     ]
    }
   ],
   "source": [
    "from scrapy import Selector\n",
    "from requests import Request, Session\n",
    "from urlparse import urljoin\n",
    "\n",
    "url = \"http://clubnika.com.ua/home/\"\n",
    "\n",
    "s = Session()\n",
    "\n",
    "header = {}\n",
    "post_data = {\"login\": \"+380679695627\", \"password\":\"8027541\", \"signin\":\"Войти\"}\n",
    "\n",
    "req = Request('POST', url,data = post_data, headers=header)\n",
    "\n",
    "prepped = req.prepare()\n",
    "\n",
    "prepped.headers[\"Referer\"] = \"http://clubnika.com.ua/home/\"\n",
    "prepped.headers[\"Accept\"] = \"text/html,application/xhtml+xml,application/xml;q=0.9,*/*;q=0.8\"\n",
    "prepped.headers[\"Origin\"] = \"http://clubnika.com.ua\"\n",
    "prepped.headers[\"User-Agent\"] = \"Mozilla/5.0 (Macintosh; Intel Mac OS X 10_10_4) AppleWebKit/600.7.12 (KHTML, like Gecko) Version/8.0.7 Safari/600.7.12\"\n",
    "\n",
    "resp = s.send(prepped)\n",
    "\n",
    "sel=Selector(text=resp.content)\n",
    "\n",
    "path = sel.xpath(\"//div[@class='header']//li//a[@class='icon']/@href\").extract()[0]\n",
    "ref = urljoin(url, path)\n",
    "print ref"
   ]
  },
  {
   "cell_type": "code",
   "execution_count": null,
   "metadata": {
    "collapsed": true
   },
   "outputs": [],
   "source": []
  }
 ],
 "metadata": {
  "kernelspec": {
   "display_name": "Python 2",
   "language": "python",
   "name": "python2"
  },
  "language_info": {
   "codemirror_mode": {
    "name": "ipython",
    "version": 2
   },
   "file_extension": ".py",
   "mimetype": "text/x-python",
   "name": "python",
   "nbconvert_exporter": "python",
   "pygments_lexer": "ipython2",
   "version": "2.7.9"
  }
 },
 "nbformat": 4,
 "nbformat_minor": 0
}
