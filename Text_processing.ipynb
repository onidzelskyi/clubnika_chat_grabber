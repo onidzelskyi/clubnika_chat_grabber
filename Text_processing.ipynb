{
 "cells": [
  {
   "cell_type": "markdown",
   "metadata": {},
   "source": [
    "http://nlp.stanford.edu/IR-book/html/htmledition/naive-bayes-text-classification-1.html"
   ]
  },
  {
   "cell_type": "code",
   "execution_count": null,
   "metadata": {
    "collapsed": false
   },
   "outputs": [],
   "source": [
    "# -*- coding: utf-8 -*-\n",
    "\n",
    "import sqlite3\n",
    "import re\n",
    "\n",
    "from utils import *"
   ]
  },
  {
   "cell_type": "code",
   "execution_count": null,
   "metadata": {
    "collapsed": false
   },
   "outputs": [],
   "source": [
    "# Read train data\n",
    "# Data in format: text, category\n",
    "# category: 0 - male; 1 - female\n",
    "data = readCSV(\"train.csv\")\n",
    "\n",
    "\"\"\"data = [[\"Chinese Beijing Chinese\",\"0\"],\n",
    "        [\"Chinese Chinese Shanghai\",\"0\"], \n",
    "        [\"Chinese Macao\",\"0\"],\n",
    "        [\"Tokyo Japan Chinese\",\"1\"]]\"\"\""
   ]
  },
  {
   "cell_type": "code",
   "execution_count": null,
   "metadata": {
    "collapsed": false
   },
   "outputs": [],
   "source": [
    "# probabilistic learning method\n",
    "nb = NaiveBayes()\n",
    "nb.trainModel(data)\n",
    "#nb.classify([\"Chinese Chinese Chinese Tokyo Japan\"])"
   ]
  },
  {
   "cell_type": "code",
   "execution_count": null,
   "metadata": {
    "collapsed": false
   },
   "outputs": [],
   "source": [
    "# Read all text from db\n",
    "conn = sqlite3.connect(\"clubnika.db\")\n",
    "cur = conn.cursor()\n",
    "cur.execute(\"select msg from messages order by timestamp desc limit 100\")\n",
    "data = [entry[0] for entry in cur]\n",
    "response = nb.classify(data)\n",
    "for entry in response:\n",
    "    print \"%s %s\" % (entry[1], entry[0])\n"
   ]
  },
  {
   "cell_type": "code",
   "execution_count": null,
   "metadata": {
    "collapsed": true
   },
   "outputs": [],
   "source": []
  }
 ],
 "metadata": {
  "kernelspec": {
   "display_name": "Python 2",
   "language": "python",
   "name": "python2"
  },
  "language_info": {
   "codemirror_mode": {
    "name": "ipython",
    "version": 2
   },
   "file_extension": ".py",
   "mimetype": "text/x-python",
   "name": "python",
   "nbconvert_exporter": "python",
   "pygments_lexer": "ipython2",
   "version": "2.7.10"
  }
 },
 "nbformat": 4,
 "nbformat_minor": 0
}
